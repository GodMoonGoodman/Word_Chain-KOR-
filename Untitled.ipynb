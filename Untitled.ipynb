{
 "cells": [
  {
   "cell_type": "code",
   "execution_count": 10,
   "metadata": {},
   "outputs": [],
   "source": [
    "import requests\n",
    "import bs4\n",
    "\n",
    "def findchain(fisrt_spell, _entry=0):\n",
    "    sess = requests.Session()\n",
    "\n",
    "    url = \"http://m.krdic.naver.com/search/entry/\"\n",
    "\n",
    "    entry = str(_entry)+\"/\"\n",
    "    \n",
    "    param = fisrt_spell\n",
    "\n",
    "    response = sess.get(url+entry+param+\"*\")\n",
    "\n",
    "    response.text\n",
    "\n",
    "    text = response.text\n",
    "\n",
    "    bs = bs4.BeautifulSoup(text,'html.parser')\n",
    "\n",
    "    finds = bs.find_all(\"a\", attrs={'class':'ft'})\n",
    "\n",
    "    fin = finds[0]\n",
    "\n",
    "    fin.contents\n",
    "\n",
    "    gin = finds[0].find(\"strong\")\n",
    "\n",
    "    gin.contents\n",
    "\n",
    "    ret = []\n",
    "    \n",
    "    for f in finds:\n",
    "        word = (f.find(\"strong\").contents[0]+f.contents[1])\n",
    "        if ' ' in word:\n",
    "            word = word[0:word.find(' ')]\n",
    "            \n",
    "        if word not in ret:\n",
    "            ret.append(word)\n",
    "            \n",
    "    return ret\n"
   ]
  },
  {
   "cell_type": "code",
   "execution_count": 11,
   "metadata": {},
   "outputs": [],
   "source": [
    "import random"
   ]
  },
  {
   "cell_type": "code",
   "execution_count": 12,
   "metadata": {
    "collapsed": true
   },
   "outputs": [],
   "source": [
    "records = list()"
   ]
  },
  {
   "cell_type": "code",
   "execution_count": 13,
   "metadata": {
    "collapsed": true
   },
   "outputs": [],
   "source": [
    "fail=False"
   ]
  },
  {
   "cell_type": "code",
   "execution_count": null,
   "metadata": {
    "collapsed": true
   },
   "outputs": [],
   "source": []
  },
  {
   "cell_type": "code",
   "execution_count": 14,
   "metadata": {},
   "outputs": [
    {
     "name": "stdout",
     "output_type": "stream",
     "text": [
      "시작하세요 \n",
      "작\n"
     ]
    }
   ],
   "source": [
    "first = input(\"시작하세요 \\n\")"
   ]
  },
  {
   "cell_type": "code",
   "execution_count": 15,
   "metadata": {},
   "outputs": [],
   "source": [
    "answers = findchain(first)\n",
    "\n",
    "ans = answers[random.randint(0,len(answers)-1)]"
   ]
  },
  {
   "cell_type": "code",
   "execution_count": null,
   "metadata": {},
   "outputs": [
    {
     "name": "stdout",
     "output_type": "stream",
     "text": [
      "작품\n"
     ]
    }
   ],
   "source": [
    "print(ans)"
   ]
  },
  {
   "cell_type": "code",
   "execution_count": null,
   "metadata": {},
   "outputs": [
    {
     "name": "stdout",
     "output_type": "stream",
     "text": [
      "당신의 단어 :품절\n",
      "절대\n",
      "당신의 단어 :대\n",
      "당신의 단어 :대\n",
      "당신의 단어 :대\n",
      "당신의 단어 :대\n",
      "당신의 단어 :대나무\n",
      "무늬\n"
     ]
    }
   ],
   "source": [
    "while ans not in records:\n",
    "    records.append(ans)\n",
    "    first = input(\"당신의 단어 :\")\n",
    "    while len(first) == 1:\n",
    "        first = input(\"당신의 단어 :\")\n",
    "    answers = findchain(first[-1])\n",
    "    ans = answers[random.randint(0,len(answers)-1)]\n",
    "    print(ans)"
   ]
  },
  {
   "cell_type": "code",
   "execution_count": null,
   "metadata": {
    "collapsed": true
   },
   "outputs": [],
   "source": []
  },
  {
   "cell_type": "code",
   "execution_count": null,
   "metadata": {},
   "outputs": [],
   "source": [
    "    "
   ]
  },
  {
   "cell_type": "code",
   "execution_count": null,
   "metadata": {
    "collapsed": true
   },
   "outputs": [],
   "source": []
  },
  {
   "cell_type": "code",
   "execution_count": null,
   "metadata": {
    "collapsed": true
   },
   "outputs": [],
   "source": []
  }
 ],
 "metadata": {
  "kernelspec": {
   "display_name": "Python 3",
   "language": "python",
   "name": "python3"
  },
  "language_info": {
   "codemirror_mode": {
    "name": "ipython",
    "version": 3
   },
   "file_extension": ".py",
   "mimetype": "text/x-python",
   "name": "python",
   "nbconvert_exporter": "python",
   "pygments_lexer": "ipython3",
   "version": "3.6.1"
  }
 },
 "nbformat": 4,
 "nbformat_minor": 2
}
